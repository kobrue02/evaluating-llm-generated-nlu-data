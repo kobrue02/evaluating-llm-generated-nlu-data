{
 "cells": [
  {
   "cell_type": "code",
   "execution_count": null,
   "metadata": {
    "vscode": {
     "languageId": "plaintext"
    }
   },
   "outputs": [],
   "source": [
    "!git clone https://github.com/kobrue02/evaluating-llm-generated-nlu-data/\n",
    "%cd evaluating-llm-generated-nlu-data"
   ]
  },
  {
   "cell_type": "code",
   "execution_count": null,
   "metadata": {
    "vscode": {
     "languageId": "plaintext"
    }
   },
   "outputs": [],
   "source": [
    "from bin.framework.nlu_model import IntentClassifier\n",
    "from bin.utils.methods import *"
   ]
  },
  {
   "cell_type": "code",
   "execution_count": null,
   "metadata": {
    "vscode": {
     "languageId": "plaintext"
    }
   },
   "outputs": [],
   "source": [
    "model = IntentClassifier()\n",
    "datasets = [\n",
    "    \"zero_shot_simple_data\",\n",
    "    \"one_shot_simple_data\",\n",
    "    \"few_shot_simple_data\",\n",
    "    \"chain_of_thought_simple_data\",\n",
    "    \"persona_based_prompt_s1_data\"\n",
    "]"
   ]
  },
  {
   "cell_type": "code",
   "execution_count": null,
   "metadata": {
    "vscode": {
     "languageId": "plaintext"
    }
   },
   "outputs": [],
   "source": [
    "for fname in datasets:\n",
    "    df = load_df(fname)\n",
    "    train_df, test_df = model.split_dataset(df)\n",
    "    model.fit(train_df)\n",
    "    report = model.evaluate(test_df)\n",
    "    print(report)"
   ]
  }
 ],
 "metadata": {
  "language_info": {
   "name": "python"
  }
 },
 "nbformat": 4,
 "nbformat_minor": 2
}
