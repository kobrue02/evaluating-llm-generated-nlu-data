{
  "cells": [
    {
      "cell_type": "markdown",
      "metadata": {
        "id": "view-in-github",
        "colab_type": "text"
      },
      "source": [
        "<a href=\"https://colab.research.google.com/github/kobrue02/evaluating-llm-generated-nlu-data/blob/main/bin/notebooks/train_eval_nlu.ipynb\" target=\"_parent\"><img src=\"https://colab.research.google.com/assets/colab-badge.svg\" alt=\"Open In Colab\"/></a>"
      ]
    },
    {
      "cell_type": "code",
      "execution_count": null,
      "metadata": {
        "vscode": {
          "languageId": "plaintext"
        },
        "id": "wBUAwpMtG5Xf"
      },
      "outputs": [],
      "source": [
        "!git clone https://github.com/kobrue02/evaluating-llm-generated-nlu-data/\n",
        "%cd evaluating-llm-generated-nlu-data"
      ]
    },
    {
      "cell_type": "code",
      "execution_count": 2,
      "metadata": {
        "vscode": {
          "languageId": "plaintext"
        },
        "id": "f1S3EwEuG5Xg"
      },
      "outputs": [],
      "source": [
        "from bin.framework.nlu_model import IntentClassifier\n",
        "from bin.utils.methods import *\n",
        "from sklearn.neural_network import MLPClassifier"
      ]
    },
    {
      "cell_type": "code",
      "execution_count": 3,
      "metadata": {
        "vscode": {
          "languageId": "plaintext"
        },
        "id": "8_cN5cpZG5Xg"
      },
      "outputs": [],
      "source": [
        "model = IntentClassifier(model=MLPClassifier())\n",
        "datasets = [\n",
        "    \"zero_shot_simple_data\",\n",
        "    \"one_shot_simple_data\",\n",
        "    \"few_shot_simple_data\",\n",
        "    \"chain_of_thought_simple_data\",\n",
        "    \"persona_based_prompt_s1_data\",\n",
        "    \"attribute_controlled_prompt_data\"\n",
        "]"
      ]
    },
    {
      "cell_type": "code",
      "source": [
        "from bin.utils.methods import load_sipgate_dataset\n",
        "\n",
        "golden_df = load_sipgate_dataset()\n",
        "golden_df = golden_df.groupby('intent').sample(n=5, random_state=42)\n",
        "golden_df.head()"
      ],
      "metadata": {
        "id": "Oj0zzgfgN32a"
      },
      "execution_count": null,
      "outputs": []
    },
    {
      "cell_type": "code",
      "execution_count": null,
      "metadata": {
        "vscode": {
          "languageId": "plaintext"
        },
        "id": "LHVZ-NSAG5Xg"
      },
      "outputs": [],
      "source": [
        "reports = {}\n",
        "for fname in datasets:\n",
        "    df = load_df(fname)\n",
        "    model.fit(df)\n",
        "    report = model.evaluate(golden_df)\n",
        "    reports[fname] = report\n",
        "    model.reset()"
      ]
    },
    {
      "cell_type": "code",
      "source": [
        "import pandas as pd\n",
        "import matplotlib.pyplot as plt\n",
        "import seaborn as sns"
      ],
      "metadata": {
        "id": "Z_Y9lu5twvH4"
      },
      "execution_count": null,
      "outputs": []
    },
    {
      "cell_type": "code",
      "source": [
        "def create_weighted_average_table(reports):\n",
        "    weighted_averages = {}\n",
        "    for dataset_name, report in reports.items():\n",
        "        weighted_averages[dataset_name] = report['weighted avg']['f1-score']\n",
        "\n",
        "    df = pd.DataFrame(weighted_averages, index=['Weighted Average F1-score']).transpose()\n",
        "    return df\n",
        "df = create_weighted_average_table(reports)\n",
        "df_transposed = df.transpose()\n",
        "df_transposed\n",
        "df_transposed.to_csv('output/phi_weighted_average_f1_scores.csv')"
      ],
      "metadata": {
        "id": "1ZLcs-S-Zpx0"
      },
      "execution_count": 8,
      "outputs": []
    },
    {
      "cell_type": "code",
      "source": [
        "df_transposed"
      ],
      "metadata": {
        "id": "waZKBL1LABhy"
      },
      "execution_count": null,
      "outputs": []
    },
    {
      "cell_type": "code",
      "source": [
        "model = IntentClassifier(model=MLPClassifier())\n",
        "train_df, test_df = model.split_dataset(df)\n",
        "model.fit(train_df)\n",
        "report = model.classification_report(test_df)\n",
        "print(report)"
      ],
      "metadata": {
        "id": "X4kS_B0rPEwx"
      },
      "execution_count": null,
      "outputs": []
    }
  ],
  "metadata": {
    "language_info": {
      "name": "python"
    },
    "colab": {
      "provenance": [],
      "include_colab_link": true
    },
    "kernelspec": {
      "name": "python3",
      "display_name": "Python 3"
    }
  },
  "nbformat": 4,
  "nbformat_minor": 0
}