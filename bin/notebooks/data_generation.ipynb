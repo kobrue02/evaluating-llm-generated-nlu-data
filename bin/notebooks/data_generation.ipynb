{
 "cells": [
  {
   "cell_type": "markdown",
   "metadata": {
    "colab_type": "text",
    "id": "view-in-github"
   },
   "source": [
    "<a href=\"https://colab.research.google.com/github/kobrue02/evaluating-llm-generated-nlu-data/blob/main/bin/notebooks/data_generation.ipynb\" target=\"_parent\"><img src=\"https://colab.research.google.com/assets/colab-badge.svg\" alt=\"Open In Colab\"/></a>"
   ]
  },
  {
   "cell_type": "markdown",
   "metadata": {
    "id": "mrPxiTtQSIla"
   },
   "source": [
    "Clone the repository and cd into it"
   ]
  },
  {
   "cell_type": "code",
   "execution_count": null,
   "metadata": {
    "id": "OfQQyIA7Qp3d"
   },
   "outputs": [],
   "source": [
    "!git clone https://github.com/kobrue02/evaluating-llm-generated-nlu-data/\n",
    "%cd evaluating-llm-generated-nlu-data/bin\n",
    "!git pull"
   ]
  },
  {
   "cell_type": "markdown",
   "metadata": {
    "id": "OwC8ge6lSPE_"
   },
   "source": [
    "Import the necessary classes and methods"
   ]
  },
  {
   "cell_type": "code",
   "execution_count": null,
   "metadata": {
    "id": "WT6cHuCrSprR"
   },
   "outputs": [],
   "source": [
    "from bin.data_generation.generate_data import DataGenerationModel\n",
    "from bin.data_generation.construct_prompt import load_prompt\n",
    "from bin.utils.types import DataSet\n",
    "from transformers import AutoModelForCausalLM, AutoTokenizer"
   ]
  },
  {
   "cell_type": "markdown",
   "metadata": {
    "id": "Vt1xSuS4SYcv"
   },
   "source": [
    "Initialize Phi-3.5 Model"
   ]
  },
  {
   "cell_type": "code",
   "execution_count": null,
   "metadata": {
    "id": "KuNipVilT0Wt"
   },
   "outputs": [],
   "source": [
    "phi_model = AutoModelForCausalLM.from_pretrained(\n",
    "    \"microsoft/Phi-3-mini-4k-instruct\",\n",
    "    device_map=\"cuda\",\n",
    "    torch_dtype=\"auto\",\n",
    "    trust_remote_code=True,\n",
    ")\n",
    "phi_tokenizer = AutoTokenizer.from_pretrained(\"microsoft/Phi-3-mini-4k-instruct\")"
   ]
  },
  {
   "cell_type": "markdown",
   "metadata": {
    "id": "GTik3W8TSc1N"
   },
   "source": [
    "Load the model"
   ]
  },
  {
   "cell_type": "code",
   "execution_count": null,
   "metadata": {
    "id": "wrHfdt2IUbH9"
   },
   "outputs": [],
   "source": [
    "phi = DataGenerationModel(model=phi_model, tokenizer=phi_tokenizer)"
   ]
  },
  {
   "cell_type": "markdown",
   "metadata": {
    "id": "7LBXYNWF1vHY"
   },
   "source": [
    "Generate data with basic prompt"
   ]
  },
  {
   "cell_type": "code",
   "execution_count": null,
   "metadata": {
    "id": "hJ4yTGeXVUbq"
   },
   "outputs": [],
   "source": [
    "dataset = DataSet()\n",
    "prompt_id = \"one_shot_simple\"\n",
    "intents = [\"ac_on\", \"ac_off\", \"light_on\", \"light_off\", \"music_on\", \"music_off\"]:\n",
    "prompt = load_prompt(prompt_id)\n",
    "dataset += phi.build_dataset_from_intents(prompt, intents)\n",
    "dataset.to_csv(f\"{prompt_id}_data.csv\", columns=[\"query\", \"intent\"])\n",
    "dataset.to_data_frame()"
   ]
  }
 ],
 "metadata": {
  "accelerator": "GPU",
  "colab": {
   "authorship_tag": "ABX9TyPhYo/EiWRxRDB+Ipn9QXqQ",
   "gpuType": "A100",
   "include_colab_link": true,
   "machine_shape": "hm",
   "provenance": []
  },
  "kernelspec": {
   "display_name": "Python 3",
   "name": "python3"
  },
  "language_info": {
   "name": "python"
  }
 },
 "nbformat": 4,
 "nbformat_minor": 0
}
