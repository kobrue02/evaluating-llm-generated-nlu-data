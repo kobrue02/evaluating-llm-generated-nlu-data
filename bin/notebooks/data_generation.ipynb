{
  "nbformat": 4,
  "nbformat_minor": 0,
  "metadata": {
    "colab": {
      "provenance": [],
      "machine_shape": "hm",
      "gpuType": "A100",
      "authorship_tag": "ABX9TyPhYo/EiWRxRDB+Ipn9QXqQ",
      "include_colab_link": true
    },
    "kernelspec": {
      "name": "python3",
      "display_name": "Python 3"
    },
    "language_info": {
      "name": "python"
    },
    "accelerator": "GPU"
  },
  "cells": [
    {
      "cell_type": "markdown",
      "metadata": {
        "id": "view-in-github",
        "colab_type": "text"
      },
      "source": [
        "<a href=\"https://colab.research.google.com/github/kobrue02/evaluating-llm-generated-nlu-data/blob/main/bin/notebooks/data_generation.ipynb\" target=\"_parent\"><img src=\"https://colab.research.google.com/assets/colab-badge.svg\" alt=\"Open In Colab\"/></a>"
      ]
    },
    {
      "cell_type": "markdown",
      "source": [
        "Clone the repository and cd into it"
      ],
      "metadata": {
        "id": "mrPxiTtQSIla"
      }
    },
    {
      "cell_type": "code",
      "execution_count": null,
      "metadata": {
        "id": "OfQQyIA7Qp3d"
      },
      "outputs": [],
      "source": [
        "!git clone https://github.com/kobrue02/evaluating-llm-generated-nlu-data/\n",
        "%cd evaluating-llm-generated-nlu-data/bin\n",
        "!git pull"
      ]
    },
    {
      "cell_type": "markdown",
      "source": [
        "Import the necessary classes and methods"
      ],
      "metadata": {
        "id": "OwC8ge6lSPE_"
      }
    },
    {
      "cell_type": "code",
      "source": [
        "from generate_data import DataGenerationModel, load_prompt\n",
        "from transformers import AutoModelForCausalLM, AutoTokenizer\n",
        "from utils import DataSet"
      ],
      "metadata": {
        "id": "WT6cHuCrSprR"
      },
      "execution_count": 12,
      "outputs": []
    },
    {
      "cell_type": "markdown",
      "source": [
        "Initialize Phi-3.5 Model"
      ],
      "metadata": {
        "id": "Vt1xSuS4SYcv"
      }
    },
    {
      "cell_type": "code",
      "source": [
        "phi_model = AutoModelForCausalLM.from_pretrained(\n",
        "    \"microsoft/Phi-3-mini-4k-instruct\",\n",
        "    device_map=\"cuda\",\n",
        "    torch_dtype=\"auto\",\n",
        "    trust_remote_code=True,\n",
        ")\n",
        "phi_tokenizer = AutoTokenizer.from_pretrained(\"microsoft/Phi-3-mini-4k-instruct\")"
      ],
      "metadata": {
        "id": "KuNipVilT0Wt"
      },
      "execution_count": null,
      "outputs": []
    },
    {
      "cell_type": "markdown",
      "source": [
        "Load the model and initialize empty dataset"
      ],
      "metadata": {
        "id": "GTik3W8TSc1N"
      }
    },
    {
      "cell_type": "code",
      "source": [
        "phi = DataGenerationModel(model=phi_model, tokenizer=phi_tokenizer)\n",
        "dataset = DataSet()"
      ],
      "metadata": {
        "id": "wrHfdt2IUbH9"
      },
      "execution_count": 13,
      "outputs": []
    },
    {
      "cell_type": "markdown",
      "source": [
        "Generate data with basic prompt"
      ],
      "metadata": {
        "id": "7LBXYNWF1vHY"
      }
    },
    {
      "cell_type": "code",
      "source": [
        "prompt_id = \"chat_template_basic\"\n",
        "for intent in [\"ac_on\", \"ac_off\", \"light_on\", \"light_off\", \"music_on\", \"music_off\"]:\n",
        "    prompt = load_prompt(id=prompt_id, intent=intent, num_samples=10)\n",
        "    intent_data = phi.generate_synthetic_data(prompt=prompt, intent=intent)\n",
        "    dataset = dataset + intent_data\n",
        "dataset.to_csv(f\"{prompt_id}_data.csv\", columns=[\"query\", \"intent\"])\n",
        "dataset.to_data_frame()"
      ],
      "metadata": {
        "id": "hJ4yTGeXVUbq"
      },
      "execution_count": 16,
      "outputs": []
    }
  ]
}