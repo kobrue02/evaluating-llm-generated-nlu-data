{
  "cells": [
    {
      "cell_type": "markdown",
      "metadata": {
        "id": "view-in-github",
        "colab_type": "text"
      },
      "source": [
        "<a href=\"https://colab.research.google.com/github/kobrue02/evaluating-llm-generated-nlu-data/blob/main/bin/notebooks/data_generation.ipynb\" target=\"_parent\"><img src=\"https://colab.research.google.com/assets/colab-badge.svg\" alt=\"Open In Colab\"/></a>"
      ]
    },
    {
      "cell_type": "markdown",
      "metadata": {
        "id": "mrPxiTtQSIla"
      },
      "source": [
        "Clone the repository and cd into it"
      ]
    },
    {
      "cell_type": "code",
      "execution_count": null,
      "metadata": {
        "id": "OfQQyIA7Qp3d"
      },
      "outputs": [],
      "source": [
        "!git clone https://github.com/kobrue02/evaluating-llm-generated-nlu-data/\n",
        "%cd evaluating-llm-generated-nlu-data"
      ]
    },
    {
      "cell_type": "markdown",
      "metadata": {
        "id": "OwC8ge6lSPE_"
      },
      "source": [
        "Import the necessary classes and methods"
      ]
    },
    {
      "cell_type": "code",
      "execution_count": null,
      "metadata": {
        "id": "WT6cHuCrSprR"
      },
      "outputs": [],
      "source": [
        "from bin.data_generation.generate_data import DataGenerationModel\n",
        "from bin.data_generation.construct_prompt import load_prompt\n",
        "from bin.utils.types import DataSet\n",
        "from transformers import AutoModelForCausalLM, AutoTokenizer"
      ]
    },
    {
      "cell_type": "markdown",
      "metadata": {
        "id": "Vt1xSuS4SYcv"
      },
      "source": [
        "Initialize Phi-3.5 Model"
      ]
    },
    {
      "cell_type": "code",
      "execution_count": null,
      "metadata": {
        "id": "KuNipVilT0Wt"
      },
      "outputs": [],
      "source": [
        "phi_model = AutoModelForCausalLM.from_pretrained(\n",
        "    \"microsoft/Phi-3-mini-4k-instruct\",\n",
        "    device_map=\"cuda\",\n",
        "    torch_dtype=\"auto\",\n",
        "    trust_remote_code=True,\n",
        ")\n",
        "phi_tokenizer = AutoTokenizer.from_pretrained(\"microsoft/Phi-3-mini-4k-instruct\")"
      ]
    },
    {
      "cell_type": "markdown",
      "source": [
        "Initialize Llama model"
      ],
      "metadata": {
        "id": "U8RE5ou7Wild"
      }
    },
    {
      "cell_type": "code",
      "source": [
        "!pip install huggingface_hub\n",
        "from huggingface_hub import notebook_login\n",
        "notebook_login()"
      ],
      "metadata": {
        "id": "MM-TAs-oW1vf"
      },
      "execution_count": null,
      "outputs": []
    },
    {
      "cell_type": "code",
      "source": [
        "tokenizer = AutoTokenizer.from_pretrained(\"meta-llama/Llama-3.1-8B-Instruct\")\n",
        "model = AutoModelForCausalLM.from_pretrained(\"meta-llama/Llama-3.1-8B-Instruct\")"
      ],
      "metadata": {
        "id": "mwo4yldCWhmD"
      },
      "execution_count": null,
      "outputs": []
    },
    {
      "cell_type": "code",
      "execution_count": null,
      "metadata": {
        "id": "o16K_lj7WEK4"
      },
      "outputs": [],
      "source": [
        "# Load the reference data\n",
        "from bin.utils.methods import load_sipgate_dataset\n",
        "ref_df = load_sipgate_dataset()"
      ]
    },
    {
      "cell_type": "markdown",
      "metadata": {
        "id": "GTik3W8TSc1N"
      },
      "source": [
        "Load the model"
      ]
    },
    {
      "cell_type": "code",
      "execution_count": null,
      "metadata": {
        "id": "wrHfdt2IUbH9"
      },
      "outputs": [],
      "source": [
        "phi = DataGenerationModel(model=phi_model, tokenizer=phi_tokenizer, reference_dataset=ref_df)"
      ]
    },
    {
      "cell_type": "code",
      "source": [
        "llama = DataGenerationModel(model=model, tokenizer=tokenizer, reference_dataset=ref_df)"
      ],
      "metadata": {
        "id": "KZMaei17ZcQU",
        "outputId": "02ad63ac-9716-43a2-b114-fcdd89a74cf6",
        "colab": {
          "base_uri": "https://localhost:8080/"
        }
      },
      "execution_count": null,
      "outputs": [
        {
          "output_type": "stream",
          "name": "stderr",
          "text": [
            "2025-02-04 09:58:48,714 - bin.data_generation.generate_data - INFO - Using device: cuda\n",
            "INFO:bin.data_generation.generate_data:Using device: cuda\n",
            "2025-02-04 09:58:48,719 - bin.data_generation.generate_data - INFO - Initializing pipeline\n",
            "INFO:bin.data_generation.generate_data:Initializing pipeline\n"
          ]
        }
      ]
    },
    {
      "cell_type": "markdown",
      "metadata": {
        "id": "7LBXYNWF1vHY"
      },
      "source": [
        "Generate data with basic prompt"
      ]
    },
    {
      "cell_type": "code",
      "execution_count": null,
      "metadata": {
        "id": "hJ4yTGeXVUbq"
      },
      "outputs": [],
      "source": [
        "prompt_id = \"few_shot_simple\"\n",
        "num_samples = 25\n",
        "dataset = llama.build_dataset_from_reference(prompt_id, num_samples)\n",
        "dataset.to_csv(f\"{prompt_id}_data.csv\", columns=[\"query\", \"intent\"], encoding=\"utf-8\")\n",
        "dataset.to_data_frame()"
      ]
    }
  ],
  "metadata": {
    "accelerator": "GPU",
    "colab": {
      "gpuType": "A100",
      "machine_shape": "hm",
      "provenance": [],
      "include_colab_link": true
    },
    "kernelspec": {
      "display_name": "Python 3",
      "name": "python3"
    },
    "language_info": {
      "codemirror_mode": {
        "name": "ipython",
        "version": 3
      },
      "file_extension": ".py",
      "mimetype": "text/x-python",
      "name": "python",
      "nbconvert_exporter": "python",
      "pygments_lexer": "ipython3",
      "version": "3.9.13"
    }
  },
  "nbformat": 4,
  "nbformat_minor": 0
}