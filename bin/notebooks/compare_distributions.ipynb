{
 "cells": [
  {
   "cell_type": "code",
   "execution_count": null,
   "metadata": {
    "vscode": {
     "languageId": "plaintext"
    }
   },
   "outputs": [],
   "source": [
    "import numpy as np\n",
    "import pandas as pd\n",
    "import scipy\n",
    "\n",
    "from bin.utils.read_datasets import read_sipgate_dataset\n",
    "from bin.utils.clean_sipgate_dataset import clean_sipgate_dataset"
   ]
  },
  {
   "cell_type": "code",
   "execution_count": null,
   "metadata": {
    "vscode": {
     "languageId": "plaintext"
    }
   },
   "outputs": [],
   "source": [
    "def js_divergence(p, q):\n",
    "    p = np.asarray(p)\n",
    "    q = np.asarray(q)\n",
    "    m = 0.5 * (p + q)\n",
    "    return 0.5 * (scipy.special.kl_div(p, m) + scipy.special.kl_div(q, m))"
   ]
  },
  {
   "cell_type": "code",
   "execution_count": null,
   "metadata": {
    "vscode": {
     "languageId": "plaintext"
    }
   },
   "outputs": [],
   "source": [
    "generated_data = pd.read_csv(\"output/few_shot_simple_data.csv\")\n",
    "golden_data = clean_sipgate_dataset(read_sipgate_dataset())"
   ]
  },
  {
   "cell_type": "code",
   "execution_count": null,
   "metadata": {
    "vscode": {
     "languageId": "plaintext"
    }
   },
   "outputs": [],
   "source": [
    "for metric in golden_data.columns:\n",
    "    jsd = js_divergence(generated_data[metric], golden_data[metric])\n",
    "    print(jsd)"
   ]
  }
 ],
 "metadata": {
  "language_info": {
   "name": "python"
  }
 },
 "nbformat": 4,
 "nbformat_minor": 2
}
