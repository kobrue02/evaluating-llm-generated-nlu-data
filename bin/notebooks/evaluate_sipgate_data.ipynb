{
 "cells": [
  {
   "cell_type": "code",
   "execution_count": null,
   "metadata": {
    "vscode": {
     "languageId": "plaintext"
    }
   },
   "outputs": [],
   "source": [
    "import json\n",
    "import logging\n",
    "import pandas as pd\n",
    "import numpy as np\n",
    "import matplotlib.pyplot as plt\n",
    "import seaborn as sns\n",
    "from scipy.stats import gaussian_kde"
   ]
  },
  {
   "cell_type": "code",
   "execution_count": null,
   "metadata": {
    "vscode": {
     "languageId": "plaintext"
    }
   },
   "outputs": [],
   "source": [
    "from bin.utils.read_datasets import read_sipgate_dataset\n",
    "from bin.framework.framework import Framework"
   ]
  },
  {
   "cell_type": "code",
   "execution_count": null,
   "metadata": {
    "vscode": {
     "languageId": "plaintext"
    }
   },
   "outputs": [],
   "source": [
    "import logging\n",
    "logging.basicConfig(level=logging.INFO)"
   ]
  },
  {
   "cell_type": "code",
   "execution_count": null,
   "metadata": {
    "vscode": {
     "languageId": "plaintext"
    }
   },
   "outputs": [],
   "source": [
    "def calculate_mean_metrics(results):\n",
    "    # Initialize dictionaries to store sums and counts\n",
    "    metric_sums = {}\n",
    "    metric_counts = {}\n",
    "\n",
    "    # Process each intent dictionary\n",
    "    for intent_dict in results:\n",
    "        for intent_name, data in intent_dict.items():\n",
    "            results = data[\"results\"]\n",
    "            for metric, value in results.items():\n",
    "                if np.isnan(value):\n",
    "                    continue\n",
    "                metric_sums[metric] = metric_sums.get(metric, 0) + value\n",
    "                metric_counts[metric] = metric_counts.get(metric, 0) + 1\n",
    "\n",
    "    # Calculate means\n",
    "    mean_metrics = {\n",
    "        metric: round(metric_sums[metric] / metric_counts[metric], 2)\n",
    "        for metric in metric_sums\n",
    "    }\n",
    "\n",
    "    return mean_metrics"
   ]
  },
  {
   "cell_type": "code",
   "execution_count": null,
   "metadata": {
    "vscode": {
     "languageId": "plaintext"
    }
   },
   "outputs": [],
   "source": [
    "def results_to_dataframe(results: list[dict]):\n",
    "    # Initialize an empty DataFrame\n",
    "    columns = [\"intent\"] + list(list(results[0].values())[0][\"results\"].keys())\n",
    "    df = pd.DataFrame(columns=columns)\n",
    "    df.set_index(\"intent\", inplace=True)\n",
    "\n",
    "    # Process each intent dictionary\n",
    "    for intent_dict in results:\n",
    "        for intent_name, data in intent_dict.items():\n",
    "            results = data[\"results\"]\n",
    "            df.loc[intent_name] = results\n",
    "\n",
    "    df[\"intent\"] = df.index\n",
    "    df.reset_index(drop=True, inplace=True)\n",
    "\n",
    "    return df"
   ]
  },
  {
   "cell_type": "code",
   "execution_count": null,
   "metadata": {
    "vscode": {
     "languageId": "plaintext"
    }
   },
   "outputs": [],
   "source": [
    "def plot_results_df(df: pd.DataFrame, plot_func=plt.hist):\n",
    "    # make a dashboard of plots\n",
    "    # where each plot is the distribution of a metric\n",
    "    # across all intents\n",
    "    n_metrics = len([col for col in df.columns if not df[col].isnull().all()]) - 1\n",
    "    n_cols = 2\n",
    "    n_rows = n_metrics // n_cols\n",
    "\n",
    "    fig, axs = plt.subplots(n_rows, n_cols, figsize=(15, 5 * n_rows))\n",
    "    axs = axs.flatten()\n",
    "\n",
    "    for i, metric in enumerate(df.columns[1:]):\n",
    "        if metric == \"intent\" or df[metric].isnull().all():\n",
    "            continue\n",
    "\n",
    "        x, y = df[metric].index, df[metric].values\n",
    "\n",
    "        ax = axs[i]\n",
    "        sns.histplot(\n",
    "            y,\n",
    "            ax=ax,\n",
    "            kde=True,\n",
    "            bins=20,\n",
    "            color=\"blue\",\n",
    "            alpha=0.5,\n",
    "            linewidth=0,\n",
    "        )\n",
    "        ax.set_title(metric)\n",
    "        ax.set_xlabel(\"Value\")\n",
    "        ax.set_ylabel(\"Density\")\n",
    "\n",
    "    plt.tight_layout()\n",
    "    plt.show()"
   ]
  },
  {
   "cell_type": "code",
   "execution_count": null,
   "metadata": {
    "vscode": {
     "languageId": "plaintext"
    }
   },
   "outputs": [],
   "source": [
    "df = read_sipgate_dataset()\n",
    "print(df.head())"
   ]
  },
  {
   "cell_type": "code",
   "execution_count": null,
   "metadata": {
    "vscode": {
     "languageId": "plaintext"
    }
   },
   "outputs": [],
   "source": [
    "framework = Framework()\n",
    "results = framework.apply_framework_to_datasets(df)"
   ]
  },
  {
   "cell_type": "code",
   "execution_count": null,
   "metadata": {
    "vscode": {
     "languageId": "plaintext"
    }
   },
   "outputs": [],
   "source": [
    "print(results)\n",
    "results_df = results_to_dataframe(results)"
   ]
  },
  {
   "cell_type": "code",
   "execution_count": null,
   "metadata": {
    "vscode": {
     "languageId": "plaintext"
    }
   },
   "outputs": [],
   "source": [
    "print(results_df)\n",
    "plot_results_df(results_df)"
   ]
  }
 ],
 "metadata": {
  "language_info": {
   "name": "python"
  }
 },
 "nbformat": 4,
 "nbformat_minor": 2
}
